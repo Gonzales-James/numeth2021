{
  "nbformat": 4,
  "nbformat_minor": 0,
  "metadata": {
    "colab": {
      "name": "NuMeth Week 1 - Python Review",
      "provenance": [],
      "authorship_tag": "ABX9TyOEjeReyW613PSkydEr8Deu",
      "include_colab_link": true
    },
    "kernelspec": {
      "name": "python3",
      "display_name": "Python 3"
    }
  },
  "cells": [
    {
      "cell_type": "markdown",
      "metadata": {
        "id": "view-in-github",
        "colab_type": "text"
      },
      "source": [
        "<a href=\"https://colab.research.google.com/github/dyjdlopez/numeth2021/blob/main/week1%20-%20Linear%20Equations/NuMeth_Week_1_Python_Review.ipynb\" target=\"_parent\"><img src=\"https://colab.research.google.com/assets/colab-badge.svg\" alt=\"Open In Colab\"/></a>"
      ]
    },
    {
      "cell_type": "markdown",
      "metadata": {
        "id": "psB-ZdM-X1mZ"
      },
      "source": [
        "# Week 1: Python Review\r\n",
        "We are going to review on the basic Python coding techniques such as printing, iterations, and flow control methods."
      ]
    },
    {
      "cell_type": "code",
      "metadata": {
        "colab": {
          "base_uri": "https://localhost:8080/"
        },
        "id": "djj5il0HXvP7",
        "outputId": "b10c1516-01f1-4362-fe6e-5e6b95595814"
      },
      "source": [
        "### Basic Print\r\n",
        "print(\"Hello World\")"
      ],
      "execution_count": 1,
      "outputs": [
        {
          "output_type": "stream",
          "text": [
            "Hello World\n"
          ],
          "name": "stdout"
        }
      ]
    },
    {
      "cell_type": "code",
      "metadata": {
        "colab": {
          "base_uri": "https://localhost:8080/"
        },
        "id": "rPAAtfEmYI58",
        "outputId": "9e81b0e0-1f68-4fe1-cd0e-ef67e4a734f5"
      },
      "source": [
        "import numpy as np\r\n",
        "x = np.array([1,2,3])\r\n",
        "x"
      ],
      "execution_count": 2,
      "outputs": [
        {
          "output_type": "execute_result",
          "data": {
            "text/plain": [
              "array([1, 2, 3])"
            ]
          },
          "metadata": {
            "tags": []
          },
          "execution_count": 2
        }
      ]
    },
    {
      "cell_type": "code",
      "metadata": {
        "id": "JToZX8vsYOgn"
      },
      "source": [
        ""
      ],
      "execution_count": null,
      "outputs": []
    }
  ]
}