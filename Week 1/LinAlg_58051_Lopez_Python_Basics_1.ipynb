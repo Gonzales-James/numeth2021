{
  "nbformat": 4,
  "nbformat_minor": 0,
  "metadata": {
    "colab": {
      "name": "LinAlg 58051 Lopez - Python Basics 1.ipynb",
      "provenance": [],
      "collapsed_sections": [],
      "authorship_tag": "ABX9TyMS0x5clmQMWRkXE2KcPNWz",
      "include_colab_link": true
    },
    "kernelspec": {
      "name": "python3",
      "display_name": "Python 3"
    }
  },
  "cells": [
    {
      "cell_type": "markdown",
      "metadata": {
        "id": "view-in-github",
        "colab_type": "text"
      },
      "source": [
        "<a href=\"https://colab.research.google.com/github/dyjdlopez/numeth2021/blob/main/Week%201/LinAlg_58051_Lopez_Python_Basics_1.ipynb\" target=\"_parent\"><img src=\"https://colab.research.google.com/assets/colab-badge.svg\" alt=\"Open In Colab\"/></a>"
      ]
    },
    {
      "cell_type": "markdown",
      "metadata": {
        "id": "RbuqD6h5u2kO"
      },
      "source": [
        "# Fundamentals of Python\r\n",
        "We are going to discuss the basics of Python and how will we use it in Linear Algebra."
      ]
    },
    {
      "cell_type": "markdown",
      "metadata": {
        "id": "jtuxJuK7wMys"
      },
      "source": [
        "## 1. Variable Declaration"
      ]
    },
    {
      "cell_type": "code",
      "metadata": {
        "colab": {
          "base_uri": "https://localhost:8080/"
        },
        "id": "AipTOQgowQPk",
        "outputId": "a255ea38-8487-456e-e1c3-1653d22f3831"
      },
      "source": [
        "x = 2\r\n",
        "y = 2\r\n",
        "print(x)\r\n",
        "print(y)"
      ],
      "execution_count": 26,
      "outputs": [
        {
          "output_type": "stream",
          "text": [
            "2\n",
            "2\n"
          ],
          "name": "stdout"
        }
      ]
    },
    {
      "cell_type": "code",
      "metadata": {
        "colab": {
          "base_uri": "https://localhost:8080/"
        },
        "id": "aA3ZAzpXwyHG",
        "outputId": "c13e1934-400b-4d25-e09c-6b97d0fe2cf1"
      },
      "source": [
        "z = x+y\r\n",
        "print(\"The sum of\", x,\"and\",y,\"is\",z)\r\n",
        "print(f\"The sum of {x+1} and {y+1} is {x+y+2}\")\r\n",
        "print(\"The sum of {2} and {1} is {0}\".format(z,y,x))"
      ],
      "execution_count": 13,
      "outputs": [
        {
          "output_type": "stream",
          "text": [
            "The sum of 1 and 2 is 3\n",
            "The sum of 2 and 3 is 5\n",
            "The sum of 1 and 2 is 3\n"
          ],
          "name": "stdout"
        }
      ]
    },
    {
      "cell_type": "markdown",
      "metadata": {
        "id": "hasq87QXv2ia"
      },
      "source": [
        "### 2. Printing Statements"
      ]
    },
    {
      "cell_type": "code",
      "metadata": {
        "colab": {
          "base_uri": "https://localhost:8080/"
        },
        "id": "iIu320ontlq4",
        "outputId": "ef3a54ac-a16c-4b5b-a225-a5832b357542"
      },
      "source": [
        "print(\"Hello World\")"
      ],
      "execution_count": 1,
      "outputs": [
        {
          "output_type": "stream",
          "text": [
            "Hello World\n"
          ],
          "name": "stdout"
        }
      ]
    },
    {
      "cell_type": "code",
      "metadata": {
        "colab": {
          "base_uri": "https://localhost:8080/"
        },
        "id": "VyGHZJkfwBqM",
        "outputId": "43a47f23-fd05-4ef2-c2dd-5738ef9e02c4"
      },
      "source": [
        "print('Hello world')"
      ],
      "execution_count": 2,
      "outputs": [
        {
          "output_type": "stream",
          "text": [
            "Hello world\n"
          ],
          "name": "stdout"
        }
      ]
    },
    {
      "cell_type": "markdown",
      "metadata": {
        "id": "eg-I0i1ex7ym"
      },
      "source": [
        "## 3. Operations"
      ]
    },
    {
      "cell_type": "markdown",
      "metadata": {
        "id": "_i3nGCXRyAeV"
      },
      "source": [
        "### 3.1 Arithmetic Operations"
      ]
    },
    {
      "cell_type": "code",
      "metadata": {
        "colab": {
          "base_uri": "https://localhost:8080/"
        },
        "id": "Armty6f7wHlN",
        "outputId": "9f5d8162-12fc-4cc6-e7c0-5e0fabcf4b8a"
      },
      "source": [
        "# Addition\r\n",
        "a = 5.0\r\n",
        "b = -2\r\n",
        "print(f\"The sum of {a} and {b} is {a+b}\")"
      ],
      "execution_count": 23,
      "outputs": [
        {
          "output_type": "stream",
          "text": [
            "The sum of 5.0 and -2 is 3.0\n"
          ],
          "name": "stdout"
        }
      ]
    },
    {
      "cell_type": "code",
      "metadata": {
        "colab": {
          "base_uri": "https://localhost:8080/"
        },
        "id": "R0AVZBNewxE1",
        "outputId": "05f9fb9a-a65f-4965-f0a0-7f444a8d5c90"
      },
      "source": [
        "## Subtraction\r\n",
        "print(f\"The difference of {a} and {b} is {a-b}\")"
      ],
      "execution_count": 28,
      "outputs": [
        {
          "output_type": "stream",
          "text": [
            "The difference of 5.0 and -2 is 7.0\n"
          ],
          "name": "stdout"
        }
      ]
    },
    {
      "cell_type": "code",
      "metadata": {
        "colab": {
          "base_uri": "https://localhost:8080/"
        },
        "id": "bOov1qNxzVA2",
        "outputId": "f01cfabc-7f03-42af-e4c0-9339e6a379a1"
      },
      "source": [
        "## Multiplication\r\n",
        "print(f\"The product of {a} and {b} is {a*b}\")\r\n",
        "\r\n",
        "## Exponentiation\r\n",
        "print(f\"{b} raised to {a} is {b**a}\")"
      ],
      "execution_count": 35,
      "outputs": [
        {
          "output_type": "stream",
          "text": [
            "The product of 5.0 and -2 is -10.0\n",
            "-2 raised to 5.0 is -32.0\n"
          ],
          "name": "stdout"
        },
        {
          "output_type": "execute_result",
          "data": {
            "text/plain": [
              "-5"
            ]
          },
          "metadata": {
            "tags": []
          },
          "execution_count": 35
        }
      ]
    },
    {
      "cell_type": "code",
      "metadata": {
        "colab": {
          "base_uri": "https://localhost:8080/"
        },
        "id": "AYxbf4Kf0QRI",
        "outputId": "fbf8d50a-0171-4260-fcfe-d3ac3916f70c"
      },
      "source": [
        "## Division\r\n",
        "# print(f\"The quotient of {a} and {b} is {a/b}\")\r\n",
        "\r\n",
        "#Floor Division ##looks into least integer\r\n",
        "print(f\"The quotient of {a} and {-b} is {a//-b}\")"
      ],
      "execution_count": 43,
      "outputs": [
        {
          "output_type": "stream",
          "text": [
            "The quotient of 5.0 and 2 is 2.0\n"
          ],
          "name": "stdout"
        }
      ]
    }
  ]
}